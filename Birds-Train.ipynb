{
 "cells": [
  {
   "cell_type": "code",
   "execution_count": 1,
   "metadata": {},
   "outputs": [],
   "source": [
    "import numpy as np # linear algebra\n",
    "import pandas as pd # data processing, CSV file I/O (e.g. pd.read_csv)\n",
    "import tensorflow as tf\n",
    "import os\n",
    "%matplotlib inline\n",
    "import matplotlib.pyplot as plt\n",
    "import IPython.display as ipd\n",
    "import librosa\n",
    "import librosa.display\n",
    "import pathlib\n",
    "import warnings\n",
    "warnings.filterwarnings('ignore')\n",
    "from audio_classification import *\n",
    "from sklearn.model_selection import train_test_split\n",
    "import pickle\n",
    "from tqdm import tqdm\n",
    "\n",
    "from tensorflow.keras.models import Sequential\n",
    "from tensorflow.keras.layers import Dense, Dropout, Activation, Flatten\n",
    "from tensorflow.keras.layers import Convolution2D, Conv2D, MaxPooling2D, GlobalAveragePooling2D\n",
    "from tensorflow.keras.optimizers import Adam\n",
    "from sklearn import metrics \n",
    "\n",
    "MIN_SC = 0.2\n",
    "MIN_AMP = 1.5\n",
    "MIN_SAMPLES = 300\n",
    "NUM_SAMPLES = 600"
   ]
  },
  {
   "cell_type": "code",
   "execution_count": 2,
   "metadata": {},
   "outputs": [],
   "source": [
    "def even_df(df, target=1000):\n",
    "    def split(x, t=1000):\n",
    "        if x == t:\n",
    "            return [1]\n",
    "        if x > t:\n",
    "            return [1] if uniform(0, 1) < t / x else []\n",
    "        if x < t:\n",
    "            n = int(t / x)\n",
    "            return [1] * (n + 1) if uniform(0, 1) < t / x - n else [1] * n\n",
    "        \n",
    "    res = df.merge(df.ebird_code.value_counts().to_frame().reset_index().rename(\n",
    "        columns={'index': 'ebird_code', 'ebird_code': 'cnt'}), on=['ebird_code']).drop(columns=['index'])\n",
    "    res['split'] = res.cnt.apply(lambda x:split(x,target))\n",
    "    return splitDataFrameList(res,'split')"
   ]
  },
  {
   "cell_type": "markdown",
   "metadata": {},
   "source": [
    "# Train"
   ]
  },
  {
   "cell_type": "code",
   "execution_count": 3,
   "metadata": {},
   "outputs": [],
   "source": [
    "class Dataset():\n",
    "\n",
    "    def __init__(self, path, df, lables=None):\n",
    "        self.path = path\n",
    "        self.dump_path = '/home/mor/Downloads/Birds'\n",
    "        self.mode = 'train' if lables is None else 'predict'\n",
    "        self.file_col = 'audio_id' if self.mode=='predict' else 'filename'\n",
    "        self.df = df.sort_values(by=self.file_col).reset_index()\n",
    "        self.lables = sorted(df['lable'].unique()) if lables is None else lables\n",
    "        self.num_rows = NUM_ROWS\n",
    "        self.num_cols = NUM_COLS\n",
    "        self.ds = tf.data.Dataset.from_generator(self.iter_train,\n",
    "                                                 output_types=(tf.float32, tf.float32),\n",
    "                                                 output_shapes=((self.num_rows, self.num_cols, 1), len(self.lables))\n",
    "                                                 )\n",
    "\n",
    "    def size(self):\n",
    "        return len(self.df)\n",
    "\n",
    "    def get_lable_vec(self, bird):\n",
    "        res = np.zeros(len(self.lables))\n",
    "        res[self.lables.index(bird)] = 1\n",
    "        return res\n",
    "\n",
    "    def iter_train(self):\n",
    "        fle = ''\n",
    "        for ind, row in self.df.iterrows():\n",
    "            if row[self.file_col] != fle:\n",
    "                fle = row[self.file_col]\n",
    "                if self.mode=='train':\n",
    "                    audio_path = os.path.join(self.path, f\"{row['ebird_code']}/{fle}\")\n",
    "                else:\n",
    "                    audio_path = os.path.join(self.path, f\"{fle}.mp3\")\n",
    "                x, sr = librosa.load(audio_path, sr=SR)\n",
    "            sec = int(row['seconds'])\n",
    "            xx = x[max(0, sr * (sec - 5)):min(sr * sec, len(x))]\n",
    "            spec = librosa.feature.mfcc(y=xx, sr=SR, n_mfcc=40)\n",
    "            for i in range(self.num_cols - spec.shape[1]):\n",
    "                spec = np.concatenate([spec, spec[:, -1].reshape(spec.shape[0], 1)], axis=1)\n",
    "            l = [0]*len(self.lables) if self.mode=='predict' else self.get_lable_vec(row['lable'])\n",
    "            yield spec.reshape(spec.shape[0], spec.shape[1], 1), l\n",
    "\n",
    "    def to_np(self):\n",
    "        fle = ''\n",
    "        X, Y = [], []\n",
    "        for ind, row in self.df.iterrows():\n",
    "            sec = int(row['seconds'])\n",
    "            l = [0] * len(self.lables) if self.mode == 'predict' else self.get_lable_vec(row['lable'])\n",
    "            dump = os.path.join(self.dump_path, f\"{row[self.file_col]}_{sec}.pkl\")\n",
    "            if os.path.isfile(dump):\n",
    "                r = pickle.load( open( dump, \"rb\" ) )\n",
    "            else:\n",
    "                if row[self.file_col] != fle:\n",
    "                    fle = row[self.file_col]\n",
    "                    if self.mode == 'train':\n",
    "                        audio_path = os.path.join(self.path, f\"{row['ebird_code']}/{fle}\")\n",
    "                    else:\n",
    "                        audio_path = os.path.join(self.path, f\"{fle}.mp3\")\n",
    "                    try:\n",
    "                        x, sr = librosa.load(audio_path, sr=SR)\n",
    "                    except:\n",
    "                        print(f\"cant load file {audio_path}\")\n",
    "                        continue\n",
    "                xx = x[max(0, sr * (sec - 5)):min(sr * sec, len(x))]\n",
    "                spec = librosa.feature.mfcc(y=xx, sr=SR, n_mfcc=40)\n",
    "                for i in range(self.num_cols - spec.shape[1]):\n",
    "                    spec = np.concatenate([spec, spec[:, -1].reshape(spec.shape[0], 1)], axis=1)\n",
    "                r = spec.reshape(spec.shape[0], spec.shape[1], 1)\n",
    "                pickle.dump( r, open( dump, \"wb\" ) )\n",
    "            X.append(r)\n",
    "            Y.append(l)\n",
    "            if ind%1000==0:\n",
    "                print(ind)\n",
    "        print(\"-------------- UNPACKING ------------------\")\n",
    "        return np.array(X), np.array(Y)\n",
    "        \n",
    "    "
   ]
  },
  {
   "cell_type": "code",
   "execution_count": 4,
   "metadata": {},
   "outputs": [
    {
     "name": "stdout",
     "output_type": "stream",
     "text": [
      "count    102.000000\n",
      "mean     598.725490\n",
      "std        9.065392\n",
      "min      578.000000\n",
      "25%      592.250000\n",
      "50%      598.500000\n",
      "75%      605.000000\n",
      "max      627.000000\n",
      "Name: lable, dtype: float64\n"
     ]
    },
    {
     "data": {
      "text/plain": [
       "49084"
      ]
     },
     "execution_count": 4,
     "metadata": {},
     "output_type": "execute_result"
    }
   ],
   "source": [
    "# Prepare For Train\n",
    "df = pd.read_csv('train_full.csv').dropna(subset=['amp_r','sc_r']).drop(columns=['level_0'])\n",
    "df_train = df[(df.sc_r>MIN_SC)|(df.amp_r>MIN_AMP)]\n",
    "top_l=df_train.ebird_code.value_counts().to_frame().query(f\"ebird_code>{MIN_SAMPLES}\").index.values\n",
    "df_train = df_train[df.ebird_code.isin(top_l)]\n",
    "df_train['lable'] = df_train.ebird_code\n",
    "df_train = even_df(df_train,NUM_SAMPLES)\n",
    "# # Add nobird\n",
    "# nobird = df[(df.ebird_code.isin(top_l))&((df.sc_r<0.08)&(df.amp_r<1.0)&(df.amp_r>0.5))].sample(NUM_SAMPLES*1)\n",
    "# nobird.loc[:,'lable']='nocall'\n",
    "# df_train=pd.concat([df_train,nobird])\n",
    "print(df_train.lable.value_counts().describe())\n",
    "lables = sorted(df_train['lable'].unique())\n",
    "tr_df, ts_df = hash_split(df_train,rate=0.8)\n",
    "len(tr_df)"
   ]
  },
  {
   "cell_type": "code",
   "execution_count": 9,
   "metadata": {
    "scrolled": false
   },
   "outputs": [
    {
     "name": "stdout",
     "output_type": "stream",
     "text": [
      "0\n",
      "1000\n",
      "2000\n",
      "3000\n",
      "4000\n",
      "5000\n",
      "6000\n",
      "7000\n",
      "8000\n",
      "9000\n",
      "10000\n",
      "11000\n",
      "12000\n",
      "13000\n",
      "14000\n",
      "15000\n",
      "16000\n",
      "17000\n",
      "18000\n",
      "19000\n",
      "20000\n",
      "21000\n",
      "22000\n",
      "23000\n",
      "24000\n",
      "25000\n",
      "26000\n",
      "27000\n",
      "28000\n",
      "29000\n",
      "30000\n",
      "31000\n",
      "32000\n",
      "33000\n",
      "34000\n",
      "35000\n",
      "36000\n",
      "37000\n",
      "38000\n",
      "39000\n",
      "40000\n",
      "41000\n",
      "42000\n",
      "43000\n",
      "44000\n",
      "45000\n",
      "46000\n",
      "47000\n",
      "48000\n",
      "49000\n",
      "-------------- UNPACKING ------------------\n",
      "0\n",
      "1000\n",
      "2000\n",
      "3000\n",
      "4000\n",
      "5000\n",
      "6000\n",
      "7000\n",
      "8000\n",
      "9000\n",
      "10000\n",
      "11000\n",
      "-------------- UNPACKING ------------------\n"
     ]
    }
   ],
   "source": [
    "train = Dataset('/home/mor/Downloads/train_audio/',tr_df)\n",
    "test = Dataset('/home/mor/Downloads/train_audio/',ts_df)\n",
    "X1,Y1 = train.to_np()\n",
    "X2,Y2 = test.to_np()"
   ]
  },
  {
   "cell_type": "code",
   "execution_count": 4,
   "metadata": {},
   "outputs": [],
   "source": [
    "lables = pd.read_csv('lables_102.csv').lables.values\n",
    "X1,Y1,X2,Y2=pickle.load(open(f'x1y1x2y2_{len(lables)}.pkl','rb'))\n",
    "#pickle.dump((X1,Y1,X2,Y2),open(f'x1y1x2y2_{len(lables)}.pkl','wb'))"
   ]
  },
  {
   "cell_type": "code",
   "execution_count": 5,
   "metadata": {},
   "outputs": [
    {
     "name": "stdout",
     "output_type": "stream",
     "text": [
      "Model: \"sequential\"\n",
      "_________________________________________________________________\n",
      "Layer (type)                 Output Shape              Param #   \n",
      "=================================================================\n",
      "conv2d (Conv2D)              (None, 39, 215, 16)       80        \n",
      "_________________________________________________________________\n",
      "max_pooling2d (MaxPooling2D) (None, 19, 107, 16)       0         \n",
      "_________________________________________________________________\n",
      "dropout (Dropout)            (None, 19, 107, 16)       0         \n",
      "_________________________________________________________________\n",
      "conv2d_1 (Conv2D)            (None, 18, 106, 32)       2080      \n",
      "_________________________________________________________________\n",
      "max_pooling2d_1 (MaxPooling2 (None, 9, 53, 32)         0         \n",
      "_________________________________________________________________\n",
      "dropout_1 (Dropout)          (None, 9, 53, 32)         0         \n",
      "_________________________________________________________________\n",
      "conv2d_2 (Conv2D)            (None, 8, 52, 64)         8256      \n",
      "_________________________________________________________________\n",
      "max_pooling2d_2 (MaxPooling2 (None, 4, 26, 64)         0         \n",
      "_________________________________________________________________\n",
      "dropout_2 (Dropout)          (None, 4, 26, 64)         0         \n",
      "_________________________________________________________________\n",
      "conv2d_3 (Conv2D)            (None, 3, 25, 128)        32896     \n",
      "_________________________________________________________________\n",
      "max_pooling2d_3 (MaxPooling2 (None, 1, 12, 128)        0         \n",
      "_________________________________________________________________\n",
      "dropout_3 (Dropout)          (None, 1, 12, 128)        0         \n",
      "_________________________________________________________________\n",
      "global_average_pooling2d (Gl (None, 128)               0         \n",
      "_________________________________________________________________\n",
      "dense (Dense)                (None, 102)               13158     \n",
      "=================================================================\n",
      "Total params: 56,470\n",
      "Trainable params: 56,470\n",
      "Non-trainable params: 0\n",
      "_________________________________________________________________\n"
     ]
    }
   ],
   "source": [
    "#del(model)\n",
    "num_rows = NUM_ROWS\n",
    "num_columns = NUM_COLS\n",
    "num_labels = len(lables)\n",
    "\n",
    "# Construct model \n",
    "model = Sequential()\n",
    "\n",
    "model.add(Conv2D(filters=16, kernel_size=2, input_shape=(num_rows, num_columns, 1), activation='relu'))\n",
    "model.add(MaxPooling2D(pool_size=2))\n",
    "model.add(Dropout(0.2))\n",
    "\n",
    "model.add(Conv2D(filters=32, kernel_size=2, activation='relu'))\n",
    "model.add(MaxPooling2D(pool_size=2))\n",
    "model.add(Dropout(0.2))\n",
    "\n",
    "model.add(Conv2D(filters=64, kernel_size=2, activation='relu'))\n",
    "model.add(MaxPooling2D(pool_size=2))\n",
    "model.add(Dropout(0.2))\n",
    "\n",
    "model.add(Conv2D(filters=128, kernel_size=2, activation='relu'))\n",
    "model.add(MaxPooling2D(pool_size=2))\n",
    "model.add(Dropout(0.2))\n",
    "\n",
    "model.add(GlobalAveragePooling2D())\n",
    "\n",
    "model.add(Dense(num_labels, activation='softmax'))\n",
    "\n",
    "model.compile(loss='categorical_crossentropy', metrics=['accuracy'], optimizer='adam')\n",
    "model.summary()"
   ]
  },
  {
   "cell_type": "code",
   "execution_count": 7,
   "metadata": {},
   "outputs": [
    {
     "name": "stdout",
     "output_type": "stream",
     "text": [
      "Epoch 1/7\n",
      "1534/1534 [==============================] - 120s 78ms/step - loss: 4.0996 - accuracy: 0.1118 - val_loss: 3.7126 - val_accuracy: 0.1554\n",
      "Epoch 2/7\n",
      "1534/1534 [==============================] - 132s 86ms/step - loss: 2.9423 - accuracy: 0.3066 - val_loss: 3.4674 - val_accuracy: 0.2261\n",
      "Epoch 3/7\n",
      "1534/1534 [==============================] - 152s 99ms/step - loss: 2.3850 - accuracy: 0.4240 - val_loss: 3.1890 - val_accuracy: 0.2969\n",
      "Epoch 4/7\n",
      "1534/1534 [==============================] - 161s 105ms/step - loss: 2.0407 - accuracy: 0.5025 - val_loss: 3.1885 - val_accuracy: 0.3296\n",
      "Epoch 5/7\n",
      "1534/1534 [==============================] - 161s 105ms/step - loss: 1.8337 - accuracy: 0.5459 - val_loss: 3.1559 - val_accuracy: 0.3356\n",
      "Epoch 6/7\n",
      "1534/1534 [==============================] - 162s 105ms/step - loss: 1.6822 - accuracy: 0.5797 - val_loss: 3.1860 - val_accuracy: 0.3511\n",
      "Epoch 7/7\n",
      "1534/1534 [==============================] - 165s 108ms/step - loss: 1.5917 - accuracy: 0.5998 - val_loss: 3.1368 - val_accuracy: 0.3679\n"
     ]
    }
   ],
   "source": [
    "model.fit(X1,Y1,epochs=7,validation_data=(X2,Y2))\n",
    "model.save(f'model_{len(lables)}.hdf5')"
   ]
  },
  {
   "cell_type": "code",
   "execution_count": 36,
   "metadata": {},
   "outputs": [
    {
     "data": {
      "text/plain": [
       "0.36792925079259137"
      ]
     },
     "execution_count": 36,
     "metadata": {},
     "output_type": "execute_result"
    }
   ],
   "source": [
    "p = model.predict(X2)\n",
    "l=np.argmax(p, axis=-1)\n",
    "y=np.argmax(Y2,axis=-1)\n",
    "pr = [x for x in map(max,p)]\n",
    "df = pd.DataFrame({'pred':l,'prob':pr,'lable':y})\n",
    "df['hit']=(df.lable==df.pred).astype(int)\n",
    "df.hit.mean()"
   ]
  },
  {
   "cell_type": "code",
   "execution_count": 25,
   "metadata": {},
   "outputs": [],
   "source": [
    "#val=test.df.copy()\n",
    "# p = model.predict(X2)\n",
    "\n",
    "# l=[lables[i] for i in np.argmax(model.predict(X2), axis=-1)]\n",
    "# val['pred'] = l\n",
    "# val['prob'] = [x for x in map(max,p)]\n",
    "# val['hit']=val.lable==val.pred.astype(int)\n",
    "# val.hit.mean()\n"
   ]
  },
  {
   "cell_type": "code",
   "execution_count": 69,
   "metadata": {},
   "outputs": [
    {
     "data": {
      "image/png": "[encoded data removed]",
      "text/plain": [
       "<Figure size 432x288 with 1 Axes>"
      ]
     },
     "metadata": {
      "needs_background": "light"
     },
     "output_type": "display_data"
    }
   ],
   "source": [
    "import sklearn.metrics as metrics\n",
    "fpr, tpr, threshold = metrics.roc_curve(df.hit, df.prob)\n",
    "roc_auc = metrics.auc(fpr, tpr)\n",
    "plt.plot(threshold, tpr, 'b', label = 'AUC = %0.2f' % roc_auc)\n",
    "plt.legend(loc = 'lower right')\n",
    "plt.ylabel('True Positive Rate')\n",
    "plt.xlabel('False Positive Rate')\n",
    "plt.grid()"
   ]
  },
  {
   "cell_type": "code",
   "execution_count": 38,
   "metadata": {},
   "outputs": [
    {
     "data": {
      "text/plain": [
       "<matplotlib.axes._subplots.AxesSubplot at 0x7f9a6b0f1a90>"
      ]
     },
     "execution_count": 38,
     "metadata": {},
     "output_type": "execute_result"
    },
    {
     "data": {
      "image/png": "[encoded data removed]",
      "text/plain": [
       "<Figure size 432x288 with 1 Axes>"
      ]
     },
     "metadata": {
      "needs_background": "light"
     },
     "output_type": "display_data"
    }
   ],
   "source": [
    "df.prob.hist()"
   ]
  },
  {
   "cell_type": "code",
   "execution_count": 65,
   "metadata": {},
   "outputs": [
    {
     "data": {
      "text/plain": [
       "4410"
      ]
     },
     "execution_count": 65,
     "metadata": {},
     "output_type": "execute_result"
    }
   ],
   "source": [
    "df.hit.sum()"
   ]
  },
  {
   "cell_type": "code",
   "execution_count": 61,
   "metadata": {},
   "outputs": [
    {
     "data": {
      "text/plain": [
       "3603"
      ]
     },
     "execution_count": 61,
     "metadata": {},
     "output_type": "execute_result"
    }
   ],
   "source": [
    "df[df.prob>0.3].hit.sum()"
   ]
  },
  {
   "cell_type": "code",
   "execution_count": 66,
   "metadata": {},
   "outputs": [
    {
     "data": {
      "text/plain": [
       "0.8170068027210884"
      ]
     },
     "execution_count": 66,
     "metadata": {},
     "output_type": "execute_result"
    }
   ],
   "source": [
    "#TPR\n",
    "3603/4410"
   ]
  },
  {
   "cell_type": "code",
   "execution_count": 64,
   "metadata": {},
   "outputs": [
    {
     "data": {
      "text/plain": [
       "7094"
      ]
     },
     "execution_count": 64,
     "metadata": {},
     "output_type": "execute_result"
    }
   ],
   "source": [
    "df[df.prob>0.3].hit.count()"
   ]
  },
  {
   "cell_type": "code",
   "execution_count": 67,
   "metadata": {},
   "outputs": [
    {
     "data": {
      "text/plain": [
       "0.18299319727891156"
      ]
     },
     "execution_count": 67,
     "metadata": {},
     "output_type": "execute_result"
    }
   ],
   "source": [
    "#FPR\n",
    "(4410-3603)/4410"
   ]
  },
  {
   "cell_type": "code",
   "execution_count": 41,
   "metadata": {},
   "outputs": [
    {
     "data": {
      "text/plain": [
       "count    11986.000000\n",
       "mean         0.367929\n",
       "std          0.482262\n",
       "min          0.000000\n",
       "25%          0.000000\n",
       "50%          0.000000\n",
       "75%          1.000000\n",
       "max          1.000000\n",
       "Name: hit, dtype: float64"
      ]
     },
     "execution_count": 41,
     "metadata": {},
     "output_type": "execute_result"
    }
   ],
   "source": [
    "df.hit.describe()"
   ]
  },
  {
   "cell_type": "code",
   "execution_count": 6,
   "metadata": {},
   "outputs": [],
   "source": [
    "X = np.concatenate([X1,X2])\n",
    "Y = np.concatenate([Y1,Y2])"
   ]
  },
  {
   "cell_type": "code",
   "execution_count": 8,
   "metadata": {},
   "outputs": [],
   "source": [
    "del(X2)"
   ]
  },
  {
   "cell_type": "code",
   "execution_count": null,
   "metadata": {},
   "outputs": [
    {
     "name": "stdout",
     "output_type": "stream",
     "text": [
      "1909/1909 [==============================] - 172s 90ms/step - loss: 4.0737 - accuracy: 0.1188\n",
      "1909/1909 [==============================] - 215s 112ms/step - loss: 2.8670 - accuracy: 0.3223\n",
      "1909/1909 [==============================] - 148s 77ms/step - loss: 2.3733 - accuracy: 0.4279\n"
     ]
    }
   ],
   "source": [
    "for i in range():\n",
    "    model.fit(X,Y,epochs=1)\n",
    "    model.save(f'model_{len(lables)}_{i}.hdf5')"
   ]
  },
  {
   "cell_type": "code",
   "execution_count": 11,
   "metadata": {},
   "outputs": [
    {
     "name": "stdout",
     "output_type": "stream",
     "text": [
      "1909/1909 [==============================] - 176s 92ms/step - loss: 2.0247 - accuracy: 0.5044\n",
      "1909/1909 [==============================] - 176s 92ms/step - loss: 1.8518 - accuracy: 0.5411\n",
      "1909/1909 [==============================] - 179s 94ms/step - loss: 1.7275 - accuracy: 0.5694\n",
      "1909/1909 [==============================] - 186s 98ms/step - loss: 1.6404 - accuracy: 0.5878\n"
     ]
    }
   ],
   "source": [
    "model=tf.keras.models.load_model('model_102C_2.hdf5')\n",
    "for i in range(4):\n",
    "    model.fit(X,Y,epochs=1)\n",
    "    model.save(f'model_{len(lables)}_{i}.hdf5')"
   ]
  },
  {
   "cell_type": "code",
   "execution_count": 15,
   "metadata": {},
   "outputs": [],
   "source": [
    "#model = tf.keras.models.load_model('model_60B.hdf5')"
   ]
  },
  {
   "cell_type": "code",
   "execution_count": 17,
   "metadata": {},
   "outputs": [],
   "source": []
  },
  {
   "cell_type": "code",
   "execution_count": 66,
   "metadata": {},
   "outputs": [],
   "source": []
  },
  {
   "cell_type": "code",
   "execution_count": null,
   "metadata": {},
   "outputs": [],
   "source": []
  },
  {
   "cell_type": "code",
   "execution_count": 42,
   "metadata": {},
   "outputs": [],
   "source": [
    "pd.DataFrame({'lables':lables}).to_csv(f'lables_{len(lables)}.csv')"
   ]
  },
  {
   "cell_type": "code",
   "execution_count": null,
   "metadata": {},
   "outputs": [],
   "source": []
  },
  {
   "cell_type": "code",
   "execution_count": 14,
   "metadata": {},
   "outputs": [
    {
     "data": {
      "text/plain": [
       "(49084,)"
      ]
     },
     "execution_count": 14,
     "metadata": {},
     "output_type": "execute_result"
    }
   ],
   "source": [
    "X1.shape"
   ]
  },
  {
   "cell_type": "code",
   "execution_count": 16,
   "metadata": {},
   "outputs": [],
   "source": [
    "df=pd.DataFrame([type(x) for x in X1])"
   ]
  },
  {
   "cell_type": "code",
   "execution_count": 21,
   "metadata": {},
   "outputs": [
    {
     "data": {
      "text/html": [
       "<div>\n",
       "<style scoped>\n",
       "    .dataframe tbody tr th:only-of-type {\n",
       "        vertical-align: middle;\n",
       "    }\n",
       "\n",
       "    .dataframe tbody tr th {\n",
       "        vertical-align: top;\n",
       "    }\n",
       "\n",
       "    .dataframe thead th {\n",
       "        text-align: right;\n",
       "    }\n",
       "</style>\n",
       "<table border=\"1\" class=\"dataframe\">\n",
       "  <thead>\n",
       "    <tr style=\"text-align: right;\">\n",
       "      <th></th>\n",
       "      <th>0</th>\n",
       "    </tr>\n",
       "  </thead>\n",
       "  <tbody>\n",
       "    <tr>\n",
       "      <th>8241</th>\n",
       "      <td>&lt;class 'tuple'&gt;</td>\n",
       "    </tr>\n",
       "  </tbody>\n",
       "</table>\n",
       "</div>"
      ],
      "text/plain": [
       "                    0\n",
       "8241  <class 'tuple'>"
      ]
     },
     "execution_count": 21,
     "metadata": {},
     "output_type": "execute_result"
    }
   ],
   "source": [
    "df[df[0]==tuple]"
   ]
  },
  {
   "cell_type": "code",
   "execution_count": 22,
   "metadata": {},
   "outputs": [
    {
     "data": {
      "text/plain": [
       "index                                                           33111\n",
       "Unnamed: 0                                                         83\n",
       "Unnamed: 0.1                                                       83\n",
       "rating                                                              5\n",
       "playback_used                                                      no\n",
       "ebird_code                                                     normoc\n",
       "channels                                                     1 (mono)\n",
       "date                                                       2013-05-13\n",
       "pitch                                                            both\n",
       "duration                                                          108\n",
       "filename                                                 XC172494.mp3\n",
       "speed                                                            both\n",
       "species                                          Northern Mockingbird\n",
       "number_of_notes                                                   4-6\n",
       "title               XC172494 Northern Mockingbird (Mimus polyglottos)\n",
       "secondary_labels                                                   []\n",
       "bird_seen                                                         yes\n",
       "sci_name                                            Mimus polyglottos\n",
       "location                        Fort Lyon Marshes, Bent Co., Colorado\n",
       "latitude                                                      38.0856\n",
       "sampling_rate                                              48000 (Hz)\n",
       "type                                                             song\n",
       "elevation                                                      1200 m\n",
       "description         Singing from wooded area adjacent to large cat...\n",
       "bitrate_of_mp3                                           128000 (bps)\n",
       "file_type                                                         mp3\n",
       "volume                                                          level\n",
       "background                                                        NaN\n",
       "xc_id                                                          172494\n",
       "url                                 https://www.xeno-canto.org/172494\n",
       "country                                                 United States\n",
       "author                                                   Eric DeFonso\n",
       "primary_label                  Mimus polyglottos_Northern Mockingbird\n",
       "longitude                                                   -103.1153\n",
       "length                                                         0-3(s)\n",
       "time                                                            20:30\n",
       "recordist                                                Eric DeFonso\n",
       "license             Creative Commons Attribution-NonCommercial-Sha...\n",
       "seconds                                                            45\n",
       "amp_r                                                         1.11928\n",
       "sc_r                                                         0.337743\n",
       "lable                                                          normoc\n",
       "cnt                                                               953\n",
       "split                                                               1\n",
       "Name: 8241, dtype: object"
      ]
     },
     "execution_count": 22,
     "metadata": {},
     "output_type": "execute_result"
    }
   ],
   "source": [
    "train.df.loc[8241]"
   ]
  },
  {
   "cell_type": "code",
   "execution_count": 31,
   "metadata": {},
   "outputs": [
    {
     "ename": "FileNotFoundError",
     "evalue": "[Errno 2] No such file or directory: '/home/mor/Downloads/Birds/XC172494.mp3_45.pkl'",
     "output_type": "error",
     "traceback": [
      "\u001b[0;31m---------------------------------------------------------------------------\u001b[0m",
      "\u001b[0;31mFileNotFoundError\u001b[0m                         Traceback (most recent call last)",
      "\u001b[0;32m<ipython-input-31-7721bd1cf4dd>\u001b[0m in \u001b[0;36m<module>\u001b[0;34m\u001b[0m\n\u001b[0;32m----> 1\u001b[0;31m \u001b[0mx\u001b[0m\u001b[0;34m=\u001b[0m\u001b[0mpickle\u001b[0m\u001b[0;34m.\u001b[0m\u001b[0mload\u001b[0m\u001b[0;34m(\u001b[0m\u001b[0mopen\u001b[0m\u001b[0;34m(\u001b[0m\u001b[0;34m'/home/mor/Downloads/Birds/XC172494.mp3_45.pkl'\u001b[0m\u001b[0;34m,\u001b[0m\u001b[0;34m'rb'\u001b[0m\u001b[0;34m)\u001b[0m\u001b[0;34m)\u001b[0m\u001b[0;34m\u001b[0m\u001b[0;34m\u001b[0m\u001b[0m\n\u001b[0m",
      "\u001b[0;31mFileNotFoundError\u001b[0m: [Errno 2] No such file or directory: '/home/mor/Downloads/Birds/XC172494.mp3_45.pkl'"
     ]
    }
   ],
   "source": [
    "x=pickle.load(open('/home/mor/Downloads/Birds/XC172494.mp3_45.pkl','rb'))"
   ]
  },
  {
   "cell_type": "code",
   "execution_count": 29,
   "metadata": {},
   "outputs": [],
   "source": [
    "X1[8241]=x[0]"
   ]
  },
  {
   "cell_type": "code",
   "execution_count": 30,
   "metadata": {},
   "outputs": [],
   "source": [
    "os.remove('/home/mor/Downloads/Birds/XC172494.mp3_45.pkl')"
   ]
  },
  {
   "cell_type": "code",
   "execution_count": 36,
   "metadata": {},
   "outputs": [],
   "source": [
    "X1=np.stack(X1)"
   ]
  },
  {
   "cell_type": "code",
   "execution_count": null,
   "metadata": {},
   "outputs": [],
   "source": []
  }
 ],
 "metadata": {
  "kernelspec": {
   "display_name": "Python 3",
   "language": "python",
   "name": "python3"
  },
  "language_info": {
   "codemirror_mode": {
    "name": "ipython",
    "version": 3
   },
   "file_extension": ".py",
   "mimetype": "text/x-python",
   "name": "python",
   "nbconvert_exporter": "python",
   "pygments_lexer": "ipython3",
   "version": "3.7.5"
  }
 },
 "nbformat": 4,
 "nbformat_minor": 4
}
